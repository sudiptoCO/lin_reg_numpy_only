{
 "cells": [
  {
   "cell_type": "code",
   "execution_count": 75,
   "metadata": {},
   "outputs": [
    {
     "name": "stdout",
     "output_type": "stream",
     "text": [
      "Requirement already satisfied: seaborn in c:\\users\\dsudi\\appdata\\local\\programs\\python\\python310\\lib\\site-packages (0.11.2)\n",
      "Requirement already satisfied: pandas>=0.23 in c:\\users\\dsudi\\appdata\\local\\programs\\python\\python310\\lib\\site-packages (from seaborn) (1.4.0)\n",
      "Requirement already satisfied: matplotlib>=2.2 in c:\\users\\dsudi\\appdata\\local\\programs\\python\\python310\\lib\\site-packages (from seaborn) (3.5.1)\n",
      "Requirement already satisfied: scipy>=1.0 in c:\\users\\dsudi\\appdata\\local\\programs\\python\\python310\\lib\\site-packages (from seaborn) (1.8.0)\n",
      "Requirement already satisfied: numpy>=1.15 in c:\\users\\dsudi\\appdata\\local\\programs\\python\\python310\\lib\\site-packages (from seaborn) (1.22.1)\n",
      "Requirement already satisfied: fonttools>=4.22.0 in c:\\users\\dsudi\\appdata\\local\\programs\\python\\python310\\lib\\site-packages (from matplotlib>=2.2->seaborn) (4.29.1)\n",
      "Requirement already satisfied: packaging>=20.0 in c:\\users\\dsudi\\appdata\\local\\programs\\python\\python310\\lib\\site-packages (from matplotlib>=2.2->seaborn) (21.2)\n",
      "Requirement already satisfied: python-dateutil>=2.7 in c:\\users\\dsudi\\appdata\\local\\programs\\python\\python310\\lib\\site-packages (from matplotlib>=2.2->seaborn) (2.8.2)\n",
      "Requirement already satisfied: pyparsing>=2.2.1 in c:\\users\\dsudi\\appdata\\local\\programs\\python\\python310\\lib\\site-packages (from matplotlib>=2.2->seaborn) (2.4.7)\n",
      "Requirement already satisfied: pillow>=6.2.0 in c:\\users\\dsudi\\appdata\\local\\programs\\python\\python310\\lib\\site-packages (from matplotlib>=2.2->seaborn) (9.0.1)\n",
      "Requirement already satisfied: cycler>=0.10 in c:\\users\\dsudi\\appdata\\local\\programs\\python\\python310\\lib\\site-packages (from matplotlib>=2.2->seaborn) (0.11.0)\n",
      "Requirement already satisfied: kiwisolver>=1.0.1 in c:\\users\\dsudi\\appdata\\local\\programs\\python\\python310\\lib\\site-packages (from matplotlib>=2.2->seaborn) (1.3.2)\n",
      "Requirement already satisfied: pytz>=2020.1 in c:\\users\\dsudi\\appdata\\local\\programs\\python\\python310\\lib\\site-packages (from pandas>=0.23->seaborn) (2021.3)\n",
      "Requirement already satisfied: six>=1.5 in c:\\users\\dsudi\\appdata\\local\\programs\\python\\python310\\lib\\site-packages (from python-dateutil>=2.7->matplotlib>=2.2->seaborn) (1.16.0)\n",
      "Note: you may need to restart the kernel to use updated packages.\n"
     ]
    }
   ],
   "source": [
    "import numpy as np\n",
    "\n",
    "#Import for generating plots\n",
    "import matplotlib.pyplot as plt\n",
    "%pip install seaborn\n",
    "import seaborn as sns"
   ]
  },
  {
   "cell_type": "markdown",
   "metadata": {},
   "source": [
    "### LR in Brief :\n",
    "\n",
    "1. Training data contains features and labels which are real numbers (that will be packed into feature matrix X)\n",
    "2. Model **y = Xw**\n",
    "\n",
    "Here I am using synthetically generated data"
   ]
  },
  {
   "cell_type": "code",
   "execution_count": 76,
   "metadata": {},
   "outputs": [],
   "source": [
    "w1 = 3\n",
    "w0 = 4\n",
    "n= 1000\n",
    "\n",
    "X = 10 * np.random.rand(n,)\n",
    "X\n",
    "y = w1 * X + w0 + np.random.randn(n,)\n"
   ]
  },
  {
   "cell_type": "code",
   "execution_count": 77,
   "metadata": {},
   "outputs": [
    {
     "name": "stdout",
     "output_type": "stream",
     "text": [
      "Shape of the feature matrix: (1000,)\n",
      "Shape of the target matrix: (1000,)\n"
     ]
    }
   ],
   "source": [
    "print(\"Shape of the feature matrix:\", X.shape)\n",
    "print(\"Shape of the target matrix:\", y.shape) #In this case both are vectors"
   ]
  },
  {
   "cell_type": "markdown",
   "metadata": {},
   "source": [
    "Let's divide the data into 2 parts, 80% for training and 20% for testing"
   ]
  },
  {
   "cell_type": "code",
   "execution_count": 78,
   "metadata": {},
   "outputs": [],
   "source": [
    "from sklearn.model_selection import train_test_split\n",
    "X_train, X_test, y_train, y_test = train_test_split(X, y, test_size=0.2, random_state=42) #Split the data into training and testing sets\n"
   ]
  },
  {
   "cell_type": "markdown",
   "metadata": {},
   "source": [
    "Let's check their shapes for sanity:"
   ]
  },
  {
   "cell_type": "code",
   "execution_count": 79,
   "metadata": {},
   "outputs": [
    {
     "name": "stdout",
     "output_type": "stream",
     "text": [
      "Shape of the training feature matrix: (800,)\n",
      "Shape of the training target matrix: (800,)\n",
      "Shape of the testing feature matrix: (200,)\n",
      "Shape of the testing target matrix: (200,)\n"
     ]
    }
   ],
   "source": [
    "print(\"Shape of the training feature matrix:\", X_train.shape)\n",
    "print(\"Shape of the training target matrix:\", y_train.shape)\n",
    "print(\"Shape of the testing feature matrix:\", X_test.shape)\n",
    "print(\"Shape of the testing target matrix:\", y_test.shape)"
   ]
  },
  {
   "cell_type": "markdown",
   "metadata": {},
   "source": [
    "Let's visualize the Training set"
   ]
  },
  {
   "cell_type": "code",
   "execution_count": 80,
   "metadata": {},
   "outputs": [
    {
     "name": "stderr",
     "output_type": "stream",
     "text": [
      "c:\\Users\\dsudi\\AppData\\Local\\Programs\\Python\\Python310\\lib\\site-packages\\seaborn\\_decorators.py:36: FutureWarning: Pass the following variables as keyword args: x, y. From version 0.12, the only valid positional argument will be `data`, and passing other arguments without an explicit keyword will result in an error or misinterpretation.\n",
      "  warnings.warn(\n"
     ]
    },
    {
     "data": {
      "text/plain": [
       "<AxesSubplot:>"
      ]
     },
     "execution_count": 80,
     "metadata": {},
     "output_type": "execute_result"
    },
    {
     "data": {
      "image/png": "[encoded data removed]",
      "text/plain": [
       "<Figure size 432x288 with 1 Axes>"
      ]
     },
     "metadata": {},
     "output_type": "display_data"
    }
   ],
   "source": [
    "sns.set_style(\"darkgrid\")\n",
    "sns.scatterplot(X_train, y_train)"
   ]
  },
  {
   "cell_type": "markdown",
   "metadata": {},
   "source": [
    "A dummy feature has to be added to incorporate the bias"
   ]
  },
  {
   "cell_type": "code",
   "execution_count": 81,
   "metadata": {},
   "outputs": [],
   "source": [
    "def add_intercept(X):\n",
    "    intercept = np.ones((X.shape[0], 1))\n",
    "    return np.column_stack((intercept, X))\n"
   ]
  },
  {
   "cell_type": "code",
   "execution_count": 82,
   "metadata": {},
   "outputs": [
    {
     "name": "stdout",
     "output_type": "stream",
     "text": [
      "before adding dummy variable: [6.56925902 2.61663148 8.01176716 6.17800119 2.68052358]\n",
      "after adding dummy variable: [[1.         6.56925902]\n",
      " [1.         2.61663148]\n",
      " [1.         8.01176716]\n",
      " [1.         6.17800119]\n",
      " [1.         2.68052358]]\n",
      "after adding dummy variable: [[1.         7.32655317]\n",
      " [1.         1.96524258]\n",
      " [1.         3.46158108]\n",
      " [1.         0.03390136]\n",
      " [1.         7.97663936]]\n"
     ]
    }
   ],
   "source": [
    "print(\"before adding dummy variable:\", X_train[:5])\n",
    "X_train_with_dummy = add_intercept(X_train)\n",
    "X_test_with_dummy = add_intercept(X_test)\n",
    "#y_train_with_dummy = add_intercept(y_train)\n",
    "#y_test_with_dummy = add_intercept(y_test)\n",
    "print(\"after adding dummy variable:\", X_train_with_dummy[:5])\n",
    "print(\"after adding dummy variable:\", X_test_with_dummy[:5])\n",
    "#print(\"after adding dummy variable:\", y_train_with_dummy[:5])\n",
    "#print(\"after adding dummy variable:\", y_test_with_dummy[:5])"
   ]
  },
  {
   "cell_type": "markdown",
   "metadata": {},
   "source": [
    "Now let's write the predict function"
   ]
  },
  {
   "cell_type": "code",
   "execution_count": 83,
   "metadata": {},
   "outputs": [],
   "source": [
    "def predict(X, w):\n",
    "    #first let's ccheck their compatibility\n",
    "    assert X.shape[-1] == w.shape[0]\n",
    "    return X.dot(w)"
   ]
  },
  {
   "cell_type": "markdown",
   "metadata": {},
   "source": [
    "Since so far we have not trained our model , let's use a random weight vector to get prediction from our model"
   ]
  },
  {
   "cell_type": "code",
   "execution_count": 84,
   "metadata": {},
   "outputs": [
    {
     "data": {
      "text/plain": [
       "array([7.00639496, 2.87001897, 8.51596195, 6.59694846, 2.93688127])"
      ]
     },
     "execution_count": 84,
     "metadata": {},
     "output_type": "execute_result"
    }
   ],
   "source": [
    "w= np.random.randn(2, )\n",
    "y_hat = predict(X_train_with_dummy, w)\n",
    "y_hat[:5]"
   ]
  },
  {
   "cell_type": "markdown",
   "metadata": {},
   "source": [
    "Loss function for Linear regression is : J(**w**) = 1/2(**Xw-y**)(**Xw-y**) \n",
    "let's implement the same using a function"
   ]
  },
  {
   "cell_type": "code",
   "execution_count": 85,
   "metadata": {},
   "outputs": [
    {
     "name": "stdout",
     "output_type": "stream",
     "text": [
      "(800, 2)\n",
      "(2,)\n"
     ]
    }
   ],
   "source": [
    "def loss(X,y,w):\n",
    "    e = y - predict(X,w)\n",
    "    return (np.transpose(e) @ e) / 2\n",
    "print(X_train_with_dummy.shape)\n",
    "#print(y_train_with_dummy.shape)\n",
    "print(w.shape)\n"
   ]
  },
  {
   "cell_type": "code",
   "execution_count": 86,
   "metadata": {},
   "outputs": [
    {
     "name": "stdout",
     "output_type": "stream",
     "text": [
      "90767.65498448392\n",
      "977.0\n"
     ]
    }
   ],
   "source": [
    "# Current loss for our model which is not trained yet using randonm weights\n",
    "print(loss(X_train_with_dummy, y_train, w))\n",
    "\n",
    "print(loss(np.array([[1,2,2,1],[1,1,3,2]]), np.array([3,5]), 2*np.array([1,2,3,4])))"
   ]
  },
  {
   "cell_type": "markdown",
   "metadata": {},
   "source": [
    "Optimization component\n",
    "1. Normal equation method\n",
    "2. Gradient descent method\n",
    "\n",
    "    a. BGD\n",
    "    b. MBGD\n",
    "    c. SGD"
   ]
  },
  {
   "cell_type": "code",
   "execution_count": 87,
   "metadata": {},
   "outputs": [
    {
     "data": {
      "text/plain": [
       "array([4.03650102, 3.0022408 ])"
      ]
     },
     "execution_count": 87,
     "metadata": {},
     "output_type": "execute_result"
    }
   ],
   "source": [
    "#first lets define the normal equation function w = (X^T X)^-1 (X^T y)\n",
    "def normal_equation(X, y):\n",
    "    return np.linalg.inv(np.transpose(X) @ X) @ np.transpose(X) @ y\n",
    "normal_equation(X_train_with_dummy, y_train)"
   ]
  },
  {
   "cell_type": "code",
   "execution_count": 88,
   "metadata": {},
   "outputs": [],
   "source": [
    "#now let's define gradient descent function\n",
    "#it will take in the feature matrix, target matrix, initial weights, learning rate, and number of iterations\n",
    "#calculate the partial derivatives of the loss function with respect to each weight\n",
    "#and return the updated weights\n",
    "\n",
    "def calculate_gradient(X, y, w):\n",
    "    return np.transpose(X) @ (predict(X, w) - y) # same as (X^T * (Xw - y))\n",
    "def update_weights(w,grad,lr):\n",
    "    return (w - lr * grad)\n"
   ]
  },
  {
   "cell_type": "code",
   "execution_count": 144,
   "metadata": {},
   "outputs": [],
   "source": [
    "#Now we are ready to implement the gradient descent algorithm\n",
    "def gradient_descent(X,y,learning_rate,epochs):\n",
    "    w_all =[]\n",
    "    err_all = []\n",
    "    w= np.zeros(X.shape[1])\n",
    "    ep = []\n",
    "    for i in np.arange(0,epochs):\n",
    "        w_all.append(w) #append the weights at each iteration for visualization\n",
    "        ep.append(i)\n",
    "        err_all.append(loss(X,y,w))\n",
    "        grad = calculate_gradient(X,y,w)\n",
    "        w = update_weights(w,grad,learning_rate)\n",
    "        #if i%100 == 0:\n",
    "            #print(\"Epoch:\", i, \"Loss:\", loss(X,y,w)) #print the loss after each 100 iterations\n",
    "    return w\n",
    "\n"
   ]
  },
  {
   "cell_type": "code",
   "execution_count": 145,
   "metadata": {},
   "outputs": [
    {
     "data": {
      "text/plain": [
       "array([3.96588709, 3.01270114])"
      ]
     },
     "execution_count": 145,
     "metadata": {},
     "output_type": "execute_result"
    }
   ],
   "source": [
    "gradient_descent(X_train_with_dummy, y_train, 0.00001, 2000)\n",
    "#result is almost equal to our normal equation solution and the synthetic data is well fitted\n",
    "#the loss is decreasing with each iteration\n"
   ]
  },
  {
   "cell_type": "markdown",
   "metadata": {},
   "source": [
    "MBGD"
   ]
  },
  {
   "cell_type": "code",
   "execution_count": 146,
   "metadata": {},
   "outputs": [],
   "source": [
    "#Same weight update function as before\n",
    "#Same loss function as before\n",
    "#Calculate the gradient with respect to each weight\n",
    "#learning schedule function has to be defined which will decrease the learning rate with each iteration\n",
    "t0,t1=200,100000\n",
    "def learning_schedule(t):\n",
    "    return t0/(t+t1)\n",
    "#Now we are ready to implement the gradient descent algorithm\n",
    "def minibatch_gradient_descent(X,y,itr,batch_size):\n",
    "    w_all =[]\n",
    "    err_all = []\n",
    "    w= np.zeros(X.shape[1])\n",
    "    ep = []\n",
    "    t= 0\n",
    "    for epoch in range(itr):\n",
    "        shuffled_indices = np.random.permutation(X.shape[0])\n",
    "        X_shuffled = X[shuffled_indices]\n",
    "        y_shuffled = y[shuffled_indices]\n",
    "        for i in np.arange(0,X.shape[0],batch_size):\n",
    "            t= t+1\n",
    "            xi = X_shuffled[i:i+batch_size]\n",
    "            yi = y_shuffled[i:i+batch_size]\n",
    "            err_all.append(loss(xi,yi,w))\n",
    "            grad =2/batch_size* calculate_gradient(xi,yi,w)\n",
    "            lr = learning_schedule(t)\n",
    "            ep.append(i)\n",
    "            w = update_weights(w,grad,lr)\n",
    "            w_all.append(w)\n",
    "            #print(\"Epoch:\", epoch, \"Loss:\", loss(xi,yi,w)) \n",
    "    return w\n",
    "    "
   ]
  },
  {
   "cell_type": "code",
   "execution_count": 147,
   "metadata": {},
   "outputs": [
    {
     "name": "stdout",
     "output_type": "stream",
     "text": [
      "[4.00991565 3.00617901]\n",
      "[4.03694545 3.0071136 ]\n"
     ]
    }
   ],
   "source": [
    "print(gradient_descent(X_train_with_dummy, y_train,0.00001, 2500))\n",
    "print(minibatch_gradient_descent(X_train_with_dummy, y_train, 200,8))"
   ]
  },
  {
   "cell_type": "markdown",
   "metadata": {},
   "source": [
    "SGD"
   ]
  },
  {
   "cell_type": "code",
   "execution_count": 148,
   "metadata": {},
   "outputs": [],
   "source": [
    "def SGD(X,y,itr):\n",
    "    w_all =[]\n",
    "    err_all = []\n",
    "    w= np.zeros(X.shape[1])\n",
    "    ep = []\n",
    "    t= 0\n",
    "    for epoch in range(itr):\n",
    "        for i in np.arange(X.shape[0]):\n",
    "            random_index = np.random.randint(X.shape[0])\n",
    "            xi = X[random_index:random_index+1]\n",
    "            yi = y[random_index:random_index+1]\n",
    "            err_all.append(loss(xi,yi,w))\n",
    "            grad =2* calculate_gradient(xi,yi,w)\n",
    "            lr = learning_schedule(t)\n",
    "            ep.append(i)\n",
    "            w = update_weights(w,grad,lr)\n",
    "            w_all.append(w)\n",
    "            #print(\"Epoch:\", epoch, \"Loss:\", loss(xi,yi,w)) \n",
    "    return w"
   ]
  },
  {
   "cell_type": "code",
   "execution_count": 150,
   "metadata": {},
   "outputs": [
    {
     "data": {
      "text/plain": [
       "array([4.05987155, 3.04342338])"
      ]
     },
     "execution_count": 150,
     "metadata": {},
     "output_type": "execute_result"
    }
   ],
   "source": [
    "SGD(X_train_with_dummy, y_train, 20)"
   ]
  }
 ],
 "metadata": {
  "interpreter": {
   "hash": "18d6701beecf512bb329d8afc849c6be09654d3e83987a0574c7a1a7226b9cc3"
  },
  "kernelspec": {
   "display_name": "Python 3.10.2 64-bit",
   "language": "python",
   "name": "python3"
  },
  "language_info": {
   "codemirror_mode": {
    "name": "ipython",
    "version": 3
   },
   "file_extension": ".py",
   "mimetype": "text/x-python",
   "name": "python",
   "nbconvert_exporter": "python",
   "pygments_lexer": "ipython3",
   "version": "3.10.2"
  },
  "orig_nbformat": 4
 },
 "nbformat": 4,
 "nbformat_minor": 2
}
